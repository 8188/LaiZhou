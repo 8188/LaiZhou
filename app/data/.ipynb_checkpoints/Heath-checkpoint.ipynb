{
 "cells": [
  {
   "cell_type": "code",
   "execution_count": 1,
   "metadata": {},
   "outputs": [],
   "source": [
    "import pandas as pd\n",
    "import numpy as np\n",
    "import time\n",
    "import os\n",
    "import torch\n",
    "import warnings\n",
    "warnings.filterwarnings(\"ignore\")\n",
    "device = torch.device(\"cuda\" if torch.cuda.is_available() else \"cpu\")\n",
    "\n",
    "import sys\n",
    "sys.path.append('C:/Users/jsy19/OneDrive - 薅羊毛大学/文档/mystuff/LaiZhouX/app/algorithm/Pytorch-MSCRED-master/')\n",
    "from utils.matrix_generator import generate_signature_matrix_node, generate_train_test_data\n",
    "from utils.data import load_data\n",
    "from model.mscred import MSCRED\n",
    "from main_mscred import test as mscred_test\n",
    "from main_mscred import train as mscred_train\n",
    "from utils.evaluate import mscred_evaluate"
   ]
  },
  {
   "cell_type": "code",
   "execution_count": 2,
   "metadata": {},
   "outputs": [],
   "source": [
    "def chooseFe(df, fe):\n",
    "    return df[fe]\n",
    "\n",
    "def timeIndex(df):\n",
    "    if 'time' in df.columns:\n",
    "        t = pd.date_range(start=str(df.time.min()), end=str(df.time.max()), freq=\"T\")\n",
    "        df = df.set_index(df.time)\n",
    "        df.index = pd.to_datetime(df.index)\n",
    "        #df = df.reindex(t)\n",
    "        df = df.drop(['time'], axis=1)\n",
    "    return df\n",
    "\n",
    "def datetimeIndex(df):\n",
    "    df.index = pd.DatetimeIndex(df.index)\n",
    "    return df\n",
    "\n",
    "def reSample(df, period):\n",
    "    df = df.resample(period).mean()\n",
    "    return df\n",
    "\n",
    "def nullCope(df):\n",
    "    for col in df.columns:\n",
    "        df[col] = df[col].interpolate()\n",
    "    return df\n",
    "\n",
    "def timeFeature(df):\n",
    "    df['month'] = df.index.month\n",
    "    df['day'] = df.index.day\n",
    "    df['hour'] = df.index.hour\n",
    "    df['dayofweek'] = df.index.dayofweek\n",
    "    df['daylight'] = ((df['hour'] >= 7) & (df['hour'] <= 22)).astype(int)\n",
    "    df['weekday'] = (df['dayofweek'] < 5).astype(int)\n",
    "    df.loc[df['day'] <= 10, 'xun'] = 0\n",
    "    df.loc[(df['day'] <= 20) & (df['day'] > 10), 'xun'] = 1\n",
    "    df.loc[df['day'] > 20, 'xun'] = 2\n",
    "    df.loc[(df['month'] <= 2) | (df['month'] >= 12), 'season'] = 0\n",
    "    df.loc[(df['month'] >=3) & (df['month'] <= 5), 'season'] = 1\n",
    "    df.loc[(df['month'] >=6) & (df['month'] <= 8), 'season'] = 2\n",
    "    df.loc[(df['month'] >=9) & (df['month'] <= 11), 'season'] = 3\n",
    "    df.drop(['day', 'month',], axis=1, inplace=True)\n",
    "    df['season'] = df['season'].astype(np.int8)\n",
    "    df['xun'] = df['xun'].astype(np.int8)\n",
    "    return df\n",
    "\n",
    "def statistic(df, windows, tar_fe):\n",
    "    for w in windows:\n",
    "        for f in tar_fe:\n",
    "            df[f'{f}_{w}_min'] = df[f].rolling(window=w, min_periods=1).min()\n",
    "            df[f'{f}_{w}_max'] = df[f].rolling(window=w, min_periods=1).max()\n",
    "            df[f'{f}_{w}_emean'] = df[f].ewm(span=w, min_periods=1).mean()\n",
    "            df[f'{f}_{w}_estd'] = df[f].ewm(span=w, min_periods=1).std()   \n",
    "    return df\n",
    "\n",
    "def switch(df, switch_fe):\n",
    "    df[switch_fe] = np.ceil(df[switch_fe]).astype(np.int8)\n",
    "    return df\n",
    "\n",
    "def shift_tar(df, tar_fe, periods):\n",
    "    df[tar_fe] = df[tar_fe].shift(-periods)\n",
    "    return df\n",
    "\n",
    "from pandas.api.types import is_datetime64_any_dtype as is_datetime\n",
    "from pandas.api.types import is_categorical_dtype\n",
    "\n",
    "def reduce_mem_usage(df, use_float16=False):\n",
    "    \"\"\"\n",
    "    Iterate through all the columns of a dataframe and modify the data type to reduce memory usage.        \n",
    "    \"\"\"\n",
    "    \n",
    "    start_mem = df.memory_usage().sum() / 1024**2\n",
    "    #print(\"Memory usage of dataframe is {:.2f} MB\".format(start_mem))\n",
    "    \n",
    "    for col in df.columns:\n",
    "        if is_datetime(df[col]) or is_categorical_dtype(df[col]):\n",
    "            continue\n",
    "        col_type = df[col].dtype\n",
    "        \n",
    "        if col_type != object:\n",
    "            c_min = df[col].min()\n",
    "            c_max = df[col].max()\n",
    "            if str(col_type)[:3] == \"int\":\n",
    "                if c_min > np.iinfo(np.int8).min and c_max < np.iinfo(np.int8).max:\n",
    "                    df[col] = df[col].astype(np.int8)\n",
    "                elif c_min > np.iinfo(np.int16).min and c_max < np.iinfo(np.int16).max:\n",
    "                    df[col] = df[col].astype(np.int16)\n",
    "                elif c_min > np.iinfo(np.int32).min and c_max < np.iinfo(np.int32).max:\n",
    "                    df[col] = df[col].astype(np.int32)\n",
    "                elif c_min > np.iinfo(np.int64).min and c_max < np.iinfo(np.int64).max:\n",
    "                    df[col] = df[col].astype(np.int64)  \n",
    "            else:\n",
    "                if use_float16 and c_min > np.finfo(np.float16).min and c_max < np.finfo(np.float16).max:\n",
    "                    df[col] = df[col].astype(np.float16)\n",
    "                elif c_min > np.finfo(np.float32).min and c_max < np.finfo(np.float32).max:\n",
    "                    df[col] = df[col].astype(np.float32)\n",
    "                else:\n",
    "                    df[col] = df[col].astype(np.float64)\n",
    "        else:\n",
    "            df[col] = df[col].astype(\"category\")\n",
    "\n",
    "    end_mem = df.memory_usage().sum() / 1024**2\n",
    "    #print(\"Memory usage after optimization is: {:.2f} MB\".format(end_mem))\n",
    "    #print(\"Decreased by {:.1f}%\".format(100 * (start_mem - end_mem) / start_mem))\n",
    "    \n",
    "    return df"
   ]
  },
  {
   "cell_type": "code",
   "execution_count": 3,
   "metadata": {},
   "outputs": [],
   "source": [
    "path = 'C:/Users/jsy19/OneDrive - 薅羊毛大学/文档/mystuff/data/莱州/pre_data_new.pkl'\n",
    "save_path = 'C:/Users/jsy19/OneDrive - 薅羊毛大学/文档/mystuff/LaiZhouX/app/static/model_new/'\n",
    "label = 'H2'\n",
    "fe = [\n",
    "    'time', '发电机内冷水箱氢气泄漏', '发电机密封油励侧回油氢气泄漏', '发电机密封油汽侧回油氢气泄漏', \n",
    "    '发电机封闭母线A相氢气泄漏', '发电机封闭母线B相氢气泄漏', '发电机封闭母线C相氢气泄漏', \n",
    "    '发电机封闭母线中性点1氢气泄漏', '发电机封闭母线中性点2氢气泄漏', '进氢压力',\n",
    "    '发电机内氢气纯度',  '发电机出氢湿度', '发电机氢干燥装置后氢气湿度', \n",
    "]\n",
    "switch_fe = []\n",
    "period = 'T'\n",
    "length = 600\n",
    "op1=0\n",
    "op2=0\n",
    "op3=1\n",
    "op4=0\n",
    "test = True"
   ]
  },
  {
   "cell_type": "code",
   "execution_count": 4,
   "metadata": {},
   "outputs": [],
   "source": [
    "def health_pipe(df, fe, period):\n",
    "    df = (\n",
    "        df\n",
    "        .pipe(chooseFe,\n",
    "              fe=fe)\n",
    "        .pipe(timeIndex)\n",
    "        .pipe(reSample,\n",
    "              period)\n",
    "        .pipe(nullCope)\n",
    "        .fillna(0)  #######\n",
    "        .reset_index(drop=True)\n",
    "        .pipe(reduce_mem_usage) \n",
    "        .T\n",
    "    )\n",
    "    return df"
   ]
  },
  {
   "cell_type": "code",
   "execution_count": 5,
   "metadata": {},
   "outputs": [],
   "source": [
    "df = pd.read_pickle(path)[-6000:]"
   ]
  },
  {
   "cell_type": "markdown",
   "metadata": {},
   "source": [
    "df.to_pickle('../static/testData/health.sample')"
   ]
  },
  {
   "cell_type": "code",
   "execution_count": 7,
   "metadata": {},
   "outputs": [],
   "source": [
    "df = health_pipe(df, fe, period)\n",
    "length = df.shape[1]"
   ]
  },
  {
   "cell_type": "code",
   "execution_count": 7,
   "metadata": {},
   "outputs": [],
   "source": [
    "df.to_csv(save_path + label + '.csv', index=False)"
   ]
  },
  {
   "cell_type": "code",
   "execution_count": 11,
   "metadata": {},
   "outputs": [
    {
     "name": "stdout",
     "output_type": "stream",
     "text": [
      "Wall time: 1.34 s\n"
     ]
    }
   ],
   "source": [
    "%%time\n",
    "generate_signature_matrix_node(\n",
    "        raw_data_path=save_path + label + '.csv',\n",
    "        save_data_path=save_path,\n",
    "        max_time=length)\n",
    "generate_train_test_data(\n",
    "    save_data_path=save_path,\n",
    "    train_end=int(length*0.8),\n",
    "    test_start=int(length*0.8),\n",
    "    test_end=length)"
   ]
  },
  {
   "cell_type": "code",
   "execution_count": 12,
   "metadata": {},
   "outputs": [
    {
     "name": "stdout",
     "output_type": "stream",
     "text": [
      "Wall time: 241 ms\n"
     ]
    }
   ],
   "source": [
    "%%time\n",
    "dataLoader = load_data(\n",
    "    train_data_path=save_path + \"matrix_data/train_data/\", \n",
    "    test_data_path=save_path + \"matrix_data/test_data/\")"
   ]
  },
  {
   "cell_type": "code",
   "execution_count": 13,
   "metadata": {},
   "outputs": [],
   "source": [
    "mscred = MSCRED(3, 256, op1, op2, op3, op4)\n",
    "optimizer = torch.optim.Adam(mscred.parameters(), lr = 0.0002)"
   ]
  },
  {
   "cell_type": "code",
   "execution_count": null,
   "metadata": {},
   "outputs": [],
   "source": [
    "mscred_train(dataLoader[\"train\"], mscred, optimizer, epochs=2, device=device)m"
   ]
  },
  {
   "cell_type": "code",
   "execution_count": 16,
   "metadata": {},
   "outputs": [],
   "source": [
    "if not os.path.exists(save_path + 'checkpoints/'):\n",
    "    os.makedirs(save_path + 'checkpoints/')\n",
    "torch.save(mscred.state_dict(), save_path + 'checkpoints/' + label + \".pth\")"
   ]
  },
  {
   "cell_type": "code",
   "execution_count": 14,
   "metadata": {},
   "outputs": [
    {
     "data": {
      "text/plain": [
       "<All keys matched successfully>"
      ]
     },
     "execution_count": 14,
     "metadata": {},
     "output_type": "execute_result"
    }
   ],
   "source": [
    "mscred.load_state_dict(torch.load(\n",
    "    save_path + 'checkpoints/' + label + \".pth\",\n",
    "    map_location=device))"
   ]
  },
  {
   "cell_type": "code",
   "execution_count": 15,
   "metadata": {},
   "outputs": [
    {
     "data": {
      "text/plain": [
       "MSCRED(\n",
       "  (cnn_encoder): CnnEncoder(\n",
       "    (conv1): Sequential(\n",
       "      (0): Conv2d(3, 32, kernel_size=(3, 3), stride=(1, 1), padding=(1, 1))\n",
       "      (1): SELU()\n",
       "    )\n",
       "    (conv2): Sequential(\n",
       "      (0): Conv2d(32, 64, kernel_size=(3, 3), stride=(2, 2), padding=(1, 1))\n",
       "      (1): SELU()\n",
       "    )\n",
       "    (conv3): Sequential(\n",
       "      (0): Conv2d(64, 128, kernel_size=(2, 2), stride=(2, 2), padding=(1, 1))\n",
       "      (1): SELU()\n",
       "    )\n",
       "    (conv4): Sequential(\n",
       "      (0): Conv2d(128, 256, kernel_size=(2, 2), stride=(2, 2))\n",
       "      (1): SELU()\n",
       "    )\n",
       "  )\n",
       "  (conv_lstm): Conv_LSTM(\n",
       "    (conv1_lstm): ConvLSTM(\n",
       "      (cell0): ConvLSTMCell(\n",
       "        (Wxi): Conv2d(32, 32, kernel_size=(3, 3), stride=(1, 1), padding=(1, 1))\n",
       "        (Whi): Conv2d(32, 32, kernel_size=(3, 3), stride=(1, 1), padding=(1, 1), bias=False)\n",
       "        (Wxf): Conv2d(32, 32, kernel_size=(3, 3), stride=(1, 1), padding=(1, 1))\n",
       "        (Whf): Conv2d(32, 32, kernel_size=(3, 3), stride=(1, 1), padding=(1, 1), bias=False)\n",
       "        (Wxc): Conv2d(32, 32, kernel_size=(3, 3), stride=(1, 1), padding=(1, 1))\n",
       "        (Whc): Conv2d(32, 32, kernel_size=(3, 3), stride=(1, 1), padding=(1, 1), bias=False)\n",
       "        (Wxo): Conv2d(32, 32, kernel_size=(3, 3), stride=(1, 1), padding=(1, 1))\n",
       "        (Who): Conv2d(32, 32, kernel_size=(3, 3), stride=(1, 1), padding=(1, 1), bias=False)\n",
       "      )\n",
       "    )\n",
       "    (conv2_lstm): ConvLSTM(\n",
       "      (cell0): ConvLSTMCell(\n",
       "        (Wxi): Conv2d(64, 64, kernel_size=(3, 3), stride=(1, 1), padding=(1, 1))\n",
       "        (Whi): Conv2d(64, 64, kernel_size=(3, 3), stride=(1, 1), padding=(1, 1), bias=False)\n",
       "        (Wxf): Conv2d(64, 64, kernel_size=(3, 3), stride=(1, 1), padding=(1, 1))\n",
       "        (Whf): Conv2d(64, 64, kernel_size=(3, 3), stride=(1, 1), padding=(1, 1), bias=False)\n",
       "        (Wxc): Conv2d(64, 64, kernel_size=(3, 3), stride=(1, 1), padding=(1, 1))\n",
       "        (Whc): Conv2d(64, 64, kernel_size=(3, 3), stride=(1, 1), padding=(1, 1), bias=False)\n",
       "        (Wxo): Conv2d(64, 64, kernel_size=(3, 3), stride=(1, 1), padding=(1, 1))\n",
       "        (Who): Conv2d(64, 64, kernel_size=(3, 3), stride=(1, 1), padding=(1, 1), bias=False)\n",
       "      )\n",
       "    )\n",
       "    (conv3_lstm): ConvLSTM(\n",
       "      (cell0): ConvLSTMCell(\n",
       "        (Wxi): Conv2d(128, 128, kernel_size=(3, 3), stride=(1, 1), padding=(1, 1))\n",
       "        (Whi): Conv2d(128, 128, kernel_size=(3, 3), stride=(1, 1), padding=(1, 1), bias=False)\n",
       "        (Wxf): Conv2d(128, 128, kernel_size=(3, 3), stride=(1, 1), padding=(1, 1))\n",
       "        (Whf): Conv2d(128, 128, kernel_size=(3, 3), stride=(1, 1), padding=(1, 1), bias=False)\n",
       "        (Wxc): Conv2d(128, 128, kernel_size=(3, 3), stride=(1, 1), padding=(1, 1))\n",
       "        (Whc): Conv2d(128, 128, kernel_size=(3, 3), stride=(1, 1), padding=(1, 1), bias=False)\n",
       "        (Wxo): Conv2d(128, 128, kernel_size=(3, 3), stride=(1, 1), padding=(1, 1))\n",
       "        (Who): Conv2d(128, 128, kernel_size=(3, 3), stride=(1, 1), padding=(1, 1), bias=False)\n",
       "      )\n",
       "    )\n",
       "    (conv4_lstm): ConvLSTM(\n",
       "      (cell0): ConvLSTMCell(\n",
       "        (Wxi): Conv2d(256, 256, kernel_size=(3, 3), stride=(1, 1), padding=(1, 1))\n",
       "        (Whi): Conv2d(256, 256, kernel_size=(3, 3), stride=(1, 1), padding=(1, 1), bias=False)\n",
       "        (Wxf): Conv2d(256, 256, kernel_size=(3, 3), stride=(1, 1), padding=(1, 1))\n",
       "        (Whf): Conv2d(256, 256, kernel_size=(3, 3), stride=(1, 1), padding=(1, 1), bias=False)\n",
       "        (Wxc): Conv2d(256, 256, kernel_size=(3, 3), stride=(1, 1), padding=(1, 1))\n",
       "        (Whc): Conv2d(256, 256, kernel_size=(3, 3), stride=(1, 1), padding=(1, 1), bias=False)\n",
       "        (Wxo): Conv2d(256, 256, kernel_size=(3, 3), stride=(1, 1), padding=(1, 1))\n",
       "        (Who): Conv2d(256, 256, kernel_size=(3, 3), stride=(1, 1), padding=(1, 1), bias=False)\n",
       "      )\n",
       "    )\n",
       "  )\n",
       "  (cnn_decoder): CnnDecoder(\n",
       "    (deconv4): Sequential(\n",
       "      (0): ConvTranspose2d(256, 128, kernel_size=(2, 2), stride=(2, 2))\n",
       "      (1): SELU()\n",
       "    )\n",
       "    (deconv3): Sequential(\n",
       "      (0): ConvTranspose2d(256, 64, kernel_size=(2, 2), stride=(2, 2), padding=(1, 1), output_padding=(1, 1))\n",
       "      (1): SELU()\n",
       "    )\n",
       "    (deconv2): Sequential(\n",
       "      (0): ConvTranspose2d(128, 32, kernel_size=(3, 3), stride=(2, 2), padding=(1, 1))\n",
       "      (1): SELU()\n",
       "    )\n",
       "    (deconv1): Sequential(\n",
       "      (0): ConvTranspose2d(64, 3, kernel_size=(3, 3), stride=(1, 1), padding=(1, 1))\n",
       "      (1): SELU()\n",
       "    )\n",
       "  )\n",
       ")"
      ]
     },
     "execution_count": 15,
     "metadata": {},
     "output_type": "execute_result"
    }
   ],
   "source": [
    "mscred.to(device)"
   ]
  },
  {
   "cell_type": "code",
   "execution_count": 16,
   "metadata": {},
   "outputs": [
    {
     "name": "stdout",
     "output_type": "stream",
     "text": [
      "Wall time: 19.1 s\n"
     ]
    }
   ],
   "source": [
    "%%time\n",
    "mscred_test(dataLoader['test'], mscred, device,\n",
    "     reconstructed_data_path=save_path + \"matrix_data/reconstructed_data/\",\n",
    "     test_start=int(length*0.8)//10)"
   ]
  },
  {
   "cell_type": "code",
   "execution_count": 20,
   "metadata": {},
   "outputs": [
    {
     "data": {
      "text/plain": [
       "(4087,)"
      ]
     },
     "execution_count": 20,
     "metadata": {},
     "output_type": "execute_result"
    }
   ],
   "source": [
    "df1 = df.T[int(length*0.9):].reset_index(drop=True)\n",
    "# dfx = df1[(df1['发电机密封油-氢气差压'] < 36) | (df1['发电机密封油-氢气差压'] > 76) | (df1['发电机密封油油含水量'] > 10)]\n",
    "# dfx = df1[(df1['发电机定子冷却水电导率'] > 0.5) | (df1['发电机定子冷却水油水PH计'] < 7) | (df1['发电机定子冷却水油水PH计'] > 9) | (df1['发电机定子冷却水流量1差压'] < 20)]\n",
    "dfx = df1[(df1.iloc[:, 0] > 4) | (df1.iloc[:, 1] > 4) | (df1.iloc[:, 2] > 4) | (df1.iloc[:, 3] > 4)  | (df1.iloc[:, 4] > 4) | (df1.iloc[:, 5] > 4) | (df1.iloc[:, 6] > 4) | (df1.iloc[:, 7] > 4) |\n",
    "          (df1.iloc[:, 8] < 0.48) | (df1.iloc[:, 9] < 90) | (df1.iloc[:, 10] > 0)]\n",
    "ac = np.unique(dfx.index.values // 10)\n",
    "ac.shape"
   ]
  },
  {
   "cell_type": "code",
   "execution_count": 17,
   "metadata": {},
   "outputs": [
    {
     "data": {
      "image/png": "[encoded data removed]",
      "text/plain": [
       "<Figure size 1500x600 with 1 Axes>"
      ]
     },
     "metadata": {},
     "output_type": "display_data"
    }
   ],
   "source": [
    "anomaly_score, threshold = mscred_evaluate(\n",
    "    plot=True, \n",
    "    valid_start_point=int(length*0.8), valid_end_point=int(length*0.9),\n",
    "    test_start_point=int(length*0.9), test_end_point=length,\n",
    "    test_data_path=save_path + 'matrix_data/test_data/',\n",
    "    reconstructed_data_path=save_path + 'matrix_data/reconstructed_data/')"
   ]
  },
  {
   "cell_type": "code",
   "execution_count": 18,
   "metadata": {},
   "outputs": [
    {
     "data": {
      "text/plain": [
       "(array([0., 0., 0., 0., 0., 0., 0., 0., 0., 0., 2., 1., 0., 0., 0., 0., 0.,\n",
       "        0., 0., 0., 1., 0., 0., 0., 0., 0., 0., 0., 0., 0., 0., 0., 0., 0.,\n",
       "        0., 3., 2., 0., 1., 0., 0., 1., 0., 0., 3., 4., 1., 0., 2., 0., 0.,\n",
       "        1., 0., 0., 1., 0., 1., 3., 1., 0.]),\n",
       " 60,\n",
       " 10.5)"
      ]
     },
     "execution_count": 18,
     "metadata": {},
     "output_type": "execute_result"
    }
   ],
   "source": [
    "anomaly_score, len(anomaly_score), threshold"
   ]
  },
  {
   "cell_type": "code",
   "execution_count": 21,
   "metadata": {},
   "outputs": [
    {
     "data": {
      "image/png": "[encoded data removed]",
      "text/plain": [
       "<Figure size 1500x600 with 1 Axes>"
      ]
     },
     "metadata": {},
     "output_type": "display_data"
    }
   ],
   "source": [
    "anomaly_score, threshold = mscred_evaluate(\n",
    "    anomaly_coordinates=ac, label=label, plot=True, \n",
    "    valid_start_point=int(length*0.8), valid_end_point=int(length*0.9),\n",
    "    test_start_point=int(length*0.9), test_end_point=length,\n",
    "    test_data_path=save_path + 'matrix_data/test_data/',\n",
    "    reconstructed_data_path=save_path + 'matrix_data/reconstructed_data/')"
   ]
  },
  {
   "cell_type": "code",
   "execution_count": 18,
   "metadata": {},
   "outputs": [
    {
     "data": {
      "text/plain": [
       "(array([0., 0., 0., ..., 0., 0., 0.]), 235.5)"
      ]
     },
     "execution_count": 18,
     "metadata": {},
     "output_type": "execute_result"
    }
   ],
   "source": [
    "anomaly_score, threshold"
   ]
  },
  {
   "cell_type": "code",
   "execution_count": 31,
   "metadata": {},
   "outputs": [],
   "source": [
    "def health_handle(length, path, fe, switch_fe, period, save_path,\n",
    "    label, op1, op2, op3, op4, test):\n",
    "    device = torch.device(\"cuda\" if torch.cuda.is_available() else \"cpu\")\n",
    "    if test:\n",
    "        df = pd.read_pickle(path)\n",
    "    else:\n",
    "        df = rd2pd()\n",
    "        \n",
    "    if len(df) > 600:\n",
    "        df = health_pipe(df, fe, period)\n",
    "        df = df.iloc[:, -length:]\n",
    "        df.to_csv(save_path + label + '.csv', index=False)\n",
    "        generate_signature_matrix_node(\n",
    "            raw_data_path=save_path + label + '.csv',\n",
    "            save_data_path=save_path,\n",
    "            max_time=length)\n",
    "        generate_train_test_data(\n",
    "            save_data_path=save_path,\n",
    "            train_end=int(length*0.8), \n",
    "            test_start=int(length*0.8), \n",
    "            test_end=length)\n",
    "        dataLoader = load_data(\n",
    "            train_data_path=save_path + \"matrix_data/train_data/\", \n",
    "            test_data_path=save_path + \"matrix_data/test_data/\")\n",
    "\n",
    "        mscred = MSCRED(3, 256, op1, op2, op3, op4)\n",
    "        mscred.load_state_dict(torch.load(\n",
    "            save_path + label + \".pth\",\n",
    "            map_location=device))\n",
    "        mscred.to(device)\n",
    "\n",
    "        mscred_test(dataLoader['test'], mscred, device,\n",
    "            reconstructed_data_path=save_path + \"matrix_data/reconstructed_data/\",\n",
    "            test_start=int(length*0.8)//10)\n",
    "        anomaly_score, threshold = mscred_evaluate(\n",
    "            valid_start_point=int(length*0.8), valid_end_point=int(length*0.9),\n",
    "            test_start_point=int(length*0.9), test_end_point=length,\n",
    "            test_data_path=save_path + 'matrix_data/test_data/',\n",
    "            reconstructed_data_path=save_path + 'matrix_data/reconstructed_data/')\n",
    "        return anomaly_score, threshold\n",
    "    else:\n",
    "        return np.array(0), 0"
   ]
  },
  {
   "cell_type": "code",
   "execution_count": 32,
   "metadata": {},
   "outputs": [
    {
     "name": "stdout",
     "output_type": "stream",
     "text": [
      "Wall time: 1.39 s\n"
     ]
    }
   ],
   "source": [
    "%%time\n",
    "anomaly_score, threshold = health_handle(\n",
    "    length, path, fe, switch_fe, period, save_path, label,\n",
    "    op1, op2, op3, op4, test)"
   ]
  },
  {
   "cell_type": "code",
   "execution_count": 33,
   "metadata": {},
   "outputs": [
    {
     "data": {
      "text/plain": [
       "0"
      ]
     },
     "execution_count": 33,
     "metadata": {},
     "output_type": "execute_result"
    }
   ],
   "source": [
    "int(np.sum(anomaly_score[anomaly_score > threshold])) * 4"
   ]
  },
  {
   "cell_type": "code",
   "execution_count": 34,
   "metadata": {},
   "outputs": [],
   "source": [
    "from joblib import Parallel, delayed"
   ]
  },
  {
   "cell_type": "code",
   "execution_count": null,
   "metadata": {},
   "outputs": [],
   "source": [
    "from parameters import H2_health, Oil_health, Water_health\n",
    "wrap = [(H2_health.length, H2_health.path, H2_health.fe,\n",
    "        H2_health.period, H2_health.save_path, H2_health.label,\n",
    "        0, 0, 1, 0, True), \n",
    "        (Oil_health.length, Oil_health.path, Oil_health.fe,\n",
    "        Oil_health.period, Oil_health.save_path, Oil_health.label,\n",
    "        0, 0, 1, 0, True), \n",
    "        (Water_health.length, Water_health.path, Water_health.fe,\n",
    "        Water_health.period, Water_health.save_path, Water_health.label,\n",
    "        0, 0, 1, 0, True)]"
   ]
  },
  {
   "cell_type": "code",
   "execution_count": null,
   "metadata": {},
   "outputs": [],
   "source": [
    "temp = Parallel(n_jobs=-1)(delayed(health_handle)(*arg) for arg in )"
   ]
  },
  {
   "cell_type": "markdown",
   "metadata": {},
   "source": [
    "## 自动更新"
   ]
  },
  {
   "cell_type": "markdown",
   "metadata": {},
   "source": [
    "df = pd.read_pickle(path)\n",
    "renew_path = 'C:/Users/jsy19/OneDrive - 薅羊毛大学/文档/mystuff/LaiZhouX/app/static/renew/'\n",
    "save_path = 'C:/Users/jsy19/OneDrive - 薅羊毛大学/文档/mystuff/LaiZhouX/app/static/model/'\n",
    "if len(df) >= 6000:\n",
    "    df = health_pipe(df, fe, period)\n",
    "    df = df.iloc[:, -600:]\n",
    "    df.to_csv(renew_path + label + '.csv', index=False)\n",
    "    generate_signature_matrix_node(\n",
    "        raw_data_path=renew_path + label + '.csv',\n",
    "        save_data_path=renew_path,\n",
    "        max_time=600)\n",
    "    generate_train_test_data(\n",
    "        save_data_path=renew_path,\n",
    "        train_end=int(600*0.8), \n",
    "        test_start=int(600*0.8), \n",
    "        test_end=600)\n",
    "    dataLoader = load_data(\n",
    "        train_data_path=renew_path + \"matrix_data/train_data/\", \n",
    "        test_data_path=renew_path + \"matrix_data/test_data/\")\n",
    "\n",
    "    mscred = MSCRED(3, 256, op1, op2, op3, op4)\n",
    "    optimizer = torch.optim.Adam(mscred.parameters(), lr = 0.0002)\n",
    "    mscred.load_state_dict(torch.load(\n",
    "        save_path + label + \".pth\",\n",
    "        map_location=device))\n",
    "    mscred.to(device)\n",
    "    \n",
    "    mscred_train(dataLoader[\"train\"], mscred, optimizer, epochs=1, device=device)\n",
    "    torch.save(mscred.state_dict(), renew_path + label + '.pth')"
   ]
  },
  {
   "cell_type": "code",
   "execution_count": 45,
   "metadata": {},
   "outputs": [],
   "source": [
    "# mscred.load_state_dict(\n",
    "#     torch.load(save_path + label + \".pth\", map_location=device))\n",
    "# mscred.to(device)\n",
    "mscred_test(dataLoader['test'], mscred, device,\n",
    "     reconstructed_data_path=renew_path + \"matrix_data/reconstructed_data/\",\n",
    "     test_start=int(600*0.8)//10)"
   ]
  },
  {
   "cell_type": "code",
   "execution_count": 46,
   "metadata": {},
   "outputs": [
    {
     "data": {
      "image/png": "[encoded data removed]",
      "text/plain": [
       "<Figure size 432x288 with 1 Axes>"
      ]
     },
     "metadata": {
      "needs_background": "light"
     },
     "output_type": "display_data"
    }
   ],
   "source": [
    "anomaly_score, threshold = mscred_evaluate(\n",
    "    plot=True, \n",
    "    valid_start_point=int(length*0.8), valid_end_point=int(length*0.9),\n",
    "    test_start_point=int(length*0.9), test_end_point=length,\n",
    "    test_data_path=renew_path + 'matrix_data/test_data/',\n",
    "    reconstructed_data_path=renew_path + 'matrix_data/reconstructed_data/')"
   ]
  },
  {
   "cell_type": "code",
   "execution_count": 40,
   "metadata": {},
   "outputs": [
    {
     "data": {
      "image/png": "[encoded data removed]",
      "text/plain": [
       "<Figure size 432x288 with 1 Axes>"
      ]
     },
     "metadata": {
      "needs_background": "light"
     },
     "output_type": "display_data"
    }
   ],
   "source": [
    "anomaly_score, threshold = mscred_evaluate(\n",
    "    plot=True, \n",
    "    valid_start_point=int(length*0.8), valid_end_point=int(length*0.9),\n",
    "    test_start_point=int(length*0.9), test_end_point=length,\n",
    "    test_data_path=renew_path + 'matrix_data/test_data/',\n",
    "    reconstructed_data_path=renew_path + 'matrix_data/reconstructed_data/')"
   ]
  },
  {
   "cell_type": "code",
   "execution_count": null,
   "metadata": {},
   "outputs": [],
   "source": []
  }
 ],
 "metadata": {
  "kernelspec": {
   "display_name": "flask",
   "language": "python",
   "name": "flask"
  },
  "language_info": {
   "codemirror_mode": {
    "name": "ipython",
    "version": 3
   },
   "file_extension": ".py",
   "mimetype": "text/x-python",
   "name": "python",
   "nbconvert_exporter": "python",
   "pygments_lexer": "ipython3",
   "version": "3.6.13"
  }
 },
 "nbformat": 4,
 "nbformat_minor": 2
}
